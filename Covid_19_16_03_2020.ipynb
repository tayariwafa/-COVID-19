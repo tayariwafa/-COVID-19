{
  "nbformat": 4,
  "nbformat_minor": 0,
  "metadata": {
    "colab": {
      "name": "Covid-19 16/03/2020.ipynb",
      "provenance": [],
      "collapsed_sections": [],
      "authorship_tag": "ABX9TyMMVF6HBDyUGw1zJRUCxJOd",
      "include_colab_link": true
    },
    "kernelspec": {
      "name": "python3",
      "display_name": "Python 3"
    }
  },
  "cells": [
    {
      "cell_type": "markdown",
      "metadata": {
        "id": "view-in-github",
        "colab_type": "text"
      },
      "source": [
        "<a href=\"https://colab.research.google.com/github/tayariwafa/-COVID-19/blob/master/Covid_19_16_03_2020.ipynb\" target=\"_parent\"><img src=\"https://colab.research.google.com/assets/colab-badge.svg\" alt=\"Open In Colab\"/></a>"
      ]
    },
    {
      "cell_type": "code",
      "metadata": {
        "id": "DFGpSaU80Ae5",
        "colab_type": "code",
        "colab": {}
      },
      "source": [
        ""
      ],
      "execution_count": 0,
      "outputs": []
    },
    {
      "cell_type": "markdown",
      "metadata": {
        "id": "76gleqeR0Bmg",
        "colab_type": "text"
      },
      "source": [
        "Set of experiments aiming to guide some data analytics for Covid-19 cases\n",
        "\n",
        "\n",
        "*   **dataset 16/03/2020**\n",
        "*   Hopefully if the dataset is richer, we could extract more meaningful insights\n",
        "\n",
        "\n",
        "\n",
        "\n",
        "\n"
      ]
    },
    {
      "cell_type": "code",
      "metadata": {
        "id": "ISKPHAar0sta",
        "colab_type": "code",
        "colab": {}
      },
      "source": [
        "!pip install --upgrade -q pygsheets\n",
        "\n"
      ],
      "execution_count": 0,
      "outputs": []
    },
    {
      "cell_type": "code",
      "metadata": {
        "id": "kLVmu3Nu1DeG",
        "colab_type": "code",
        "colab": {}
      },
      "source": [
        "import google.auth\n",
        "from google.colab import auth\n",
        "auth.authenticate_user()\n",
        "import pygsheets \n",
        "import matplotlib.pyplot as plt\n",
        "\n",
        "import pandas as pd\n",
        "import numpy as np\n",
        "import seaborn as sns\n",
        "credentials, _ = google.auth.default()\n",
        "gc = py.client.Client(credentials)"
      ],
      "execution_count": 0,
      "outputs": []
    },
    {
      "cell_type": "code",
      "metadata": {
        "id": "vHCA7v4x1g09",
        "colab_type": "code",
        "colab": {}
      },
      "source": [
        "def plotcandle(datList,labelList):\n",
        "  fig, ax = plt.subplots()\n",
        "  ax.figure.figsize=(32, 12)\n",
        "  for i in range(len(labelList)):\n",
        "    ax.boxplot(datList[i], positions=[i/10], widths=0.05)\n",
        "  posList = np.array(list(range(len(labelList))))/10\n",
        "  plt.xticks(posList, labelList,rotation='vertical')\n",
        "  plt.grid()\n",
        "  plt.show()"
      ],
      "execution_count": 0,
      "outputs": []
    },
    {
      "cell_type": "code",
      "metadata": {
        "id": "XOzTguR51mq3",
        "colab_type": "code",
        "colab": {}
      },
      "source": [
        "def plotbar(datList,labelList,title):\n",
        "  posList = range(len(datList))\n",
        "  plt.figure(figsize=(16, 6))\n",
        "  plt.bar(posList,datList)\n",
        "  plt.title(title)\n",
        "  plt.xticks(posList, labelList,rotation='vertical')\n",
        "  plt.grid()\n",
        "  plt.show()"
      ],
      "execution_count": 0,
      "outputs": []
    },
    {
      "cell_type": "markdown",
      "metadata": {
        "id": "f65XzckP1zPS",
        "colab_type": "text"
      },
      "source": [
        "dataset **16/03/2020**\n",
        "https://docs.google.com/spreadsheets/d/1jS24DjSPVWa4iuxuD4OAXrE3QeI8c9BC1hSlqr-NMiU/edit#gid=1187587451\n",
        "\n",
        "\n",
        "a des informations détaillées telles que le résumé, l'âge, le sexe, les symptômes pour certains cas et\n",
        "\n",
        "https://github.com/CSSEGISandData/COVID-19/blob/master/csse_covid_19_data/csse_covid_19_daily_reports/03-16-2020.csv\n",
        "\n",
        "\n",
        "qui fournit des statistiques mises à jour quotidiennement par pays\n",
        "\n",
        "\n",
        "\n"
      ]
    },
    {
      "cell_type": "code",
      "metadata": {
        "id": "ia6VHI3s2cNX",
        "colab_type": "code",
        "colab": {}
      },
      "source": [
        "sheet = gc.open_by_url('https://docs.google.com/spreadsheets/d/1Ojyifha6IqBKb1SIvst-4pEyJbAXFUJee6iHmxS9B1I/edit?usp=sharing')\n",
        "dat = sheet.sheet1.get_as_df()\n",
        "dat = dat[['summary','country','death','symptom']]\n",
        "odat = dat.copy()\n",
        "odat['age'] = dat['summary'].str.extract(r'( \\d+,)')\n",
        "odat['age'] = odat['age'].str.extract(r'(\\d+)').astype('float')\n",
        "odat['gender'] = dat['summary'].str.extract(r'(male|female)')\n",
        "odat['death'] = odat['death'] == 1\n",
        "odat = odat.dropna()"
      ],
      "execution_count": 0,
      "outputs": []
    },
    {
      "cell_type": "markdown",
      "metadata": {
        "id": "pi4zqQma2wZ4",
        "colab_type": "text"
      },
      "source": [
        "Créer des données de tranche d'âge\n"
      ]
    },
    {
      "cell_type": "code",
      "metadata": {
        "id": "Q5SpgG9x2x2s",
        "colab_type": "code",
        "outputId": "11463f5d-b5ac-4f61-90dd-04a99bb1970e",
        "colab": {
          "base_uri": "https://localhost:8080/",
          "height": 504
        }
      },
      "source": [
        "odat['agegroup'] = 'agegroup'\n",
        "ageDic = {}\n",
        "ageDic['1-10'] = (1,10)\n",
        "ageDic['10-20'] = (10,20)\n",
        "ageDic['20-30'] = (20,30)\n",
        "ageDic['30-40'] = (30,40)\n",
        "ageDic['40-50'] = (40,50)\n",
        "ageDic['50-60'] = (50,60)\n",
        "ageDic['60-70'] = (60,70)\n",
        "ageDic['70+'] = (70,120)\n",
        "for k in ageDic.keys():\n",
        "  lb,ub = ageDic[k]\n",
        "  odat['agegroup'][(odat['age']>=lb) & (odat['age']<ub)] = k\n",
        "odat"
      ],
      "execution_count": 0,
      "outputs": [
        {
          "output_type": "stream",
          "text": [
            "/usr/local/lib/python3.6/dist-packages/ipykernel_launcher.py:13: SettingWithCopyWarning: \n",
            "A value is trying to be set on a copy of a slice from a DataFrame\n",
            "\n",
            "See the caveats in the documentation: http://pandas.pydata.org/pandas-docs/stable/user_guide/indexing.html#returning-a-view-versus-a-copy\n",
            "  del sys.path[0]\n"
          ],
          "name": "stderr"
        },
        {
          "output_type": "execute_result",
          "data": {
            "text/html": [
              "<div>\n",
              "<style scoped>\n",
              "    .dataframe tbody tr th:only-of-type {\n",
              "        vertical-align: middle;\n",
              "    }\n",
              "\n",
              "    .dataframe tbody tr th {\n",
              "        vertical-align: top;\n",
              "    }\n",
              "\n",
              "    .dataframe thead th {\n",
              "        text-align: right;\n",
              "    }\n",
              "</style>\n",
              "<table border=\"1\" class=\"dataframe\">\n",
              "  <thead>\n",
              "    <tr style=\"text-align: right;\">\n",
              "      <th></th>\n",
              "      <th>summary</th>\n",
              "      <th>country</th>\n",
              "      <th>death</th>\n",
              "      <th>symptom</th>\n",
              "      <th>age</th>\n",
              "      <th>gender</th>\n",
              "      <th>agegroup</th>\n",
              "    </tr>\n",
              "  </thead>\n",
              "  <tbody>\n",
              "    <tr>\n",
              "      <th>0</th>\n",
              "      <td>First confirmed imported COVID-19 pneumonia pa...</td>\n",
              "      <td>China</td>\n",
              "      <td>False</td>\n",
              "      <td></td>\n",
              "      <td>66.0</td>\n",
              "      <td>male</td>\n",
              "      <td>60-70</td>\n",
              "    </tr>\n",
              "    <tr>\n",
              "      <th>1</th>\n",
              "      <td>First confirmed imported COVID-19 pneumonia pa...</td>\n",
              "      <td>China</td>\n",
              "      <td>False</td>\n",
              "      <td></td>\n",
              "      <td>56.0</td>\n",
              "      <td>female</td>\n",
              "      <td>50-60</td>\n",
              "    </tr>\n",
              "    <tr>\n",
              "      <th>2</th>\n",
              "      <td>First confirmed imported cases in Zhejiang: pa...</td>\n",
              "      <td>China</td>\n",
              "      <td>False</td>\n",
              "      <td></td>\n",
              "      <td>46.0</td>\n",
              "      <td>male</td>\n",
              "      <td>40-50</td>\n",
              "    </tr>\n",
              "    <tr>\n",
              "      <th>3</th>\n",
              "      <td>new confirmed imported COVID-19 pneumonia in T...</td>\n",
              "      <td>China</td>\n",
              "      <td>False</td>\n",
              "      <td></td>\n",
              "      <td>60.0</td>\n",
              "      <td>female</td>\n",
              "      <td>60-70</td>\n",
              "    </tr>\n",
              "    <tr>\n",
              "      <th>4</th>\n",
              "      <td>new confirmed imported COVID-19 pneumonia in T...</td>\n",
              "      <td>China</td>\n",
              "      <td>False</td>\n",
              "      <td></td>\n",
              "      <td>58.0</td>\n",
              "      <td>male</td>\n",
              "      <td>50-60</td>\n",
              "    </tr>\n",
              "    <tr>\n",
              "      <th>...</th>\n",
              "      <td>...</td>\n",
              "      <td>...</td>\n",
              "      <td>...</td>\n",
              "      <td>...</td>\n",
              "      <td>...</td>\n",
              "      <td>...</td>\n",
              "      <td>...</td>\n",
              "    </tr>\n",
              "    <tr>\n",
              "      <th>3387</th>\n",
              "      <td>new COVID-19 patient confirmed in Switzerland:...</td>\n",
              "      <td>Switzerland</td>\n",
              "      <td>False</td>\n",
              "      <td></td>\n",
              "      <td>70.0</td>\n",
              "      <td>male</td>\n",
              "      <td>70+</td>\n",
              "    </tr>\n",
              "    <tr>\n",
              "      <th>3392</th>\n",
              "      <td>new COVID-19 patient confirmed in Switzerland:...</td>\n",
              "      <td>Switzerland</td>\n",
              "      <td>False</td>\n",
              "      <td></td>\n",
              "      <td>26.0</td>\n",
              "      <td>male</td>\n",
              "      <td>20-30</td>\n",
              "    </tr>\n",
              "    <tr>\n",
              "      <th>3393</th>\n",
              "      <td>new COVID-19 patient confirmed in Switzerland:...</td>\n",
              "      <td>Switzerland</td>\n",
              "      <td>False</td>\n",
              "      <td></td>\n",
              "      <td>30.0</td>\n",
              "      <td>female</td>\n",
              "      <td>30-40</td>\n",
              "    </tr>\n",
              "    <tr>\n",
              "      <th>3394</th>\n",
              "      <td>new COVID-19 patient confirmed in Switzerland:...</td>\n",
              "      <td>Switzerland</td>\n",
              "      <td>False</td>\n",
              "      <td></td>\n",
              "      <td>49.0</td>\n",
              "      <td>male</td>\n",
              "      <td>40-50</td>\n",
              "    </tr>\n",
              "    <tr>\n",
              "      <th>3396</th>\n",
              "      <td>new COVID-19 patient confirmed in Switzerland:...</td>\n",
              "      <td>Switzerland</td>\n",
              "      <td>False</td>\n",
              "      <td></td>\n",
              "      <td>23.0</td>\n",
              "      <td>male</td>\n",
              "      <td>20-30</td>\n",
              "    </tr>\n",
              "  </tbody>\n",
              "</table>\n",
              "<p>721 rows × 7 columns</p>\n",
              "</div>"
            ],
            "text/plain": [
              "                                                summary  ... agegroup\n",
              "0     First confirmed imported COVID-19 pneumonia pa...  ...    60-70\n",
              "1     First confirmed imported COVID-19 pneumonia pa...  ...    50-60\n",
              "2     First confirmed imported cases in Zhejiang: pa...  ...    40-50\n",
              "3     new confirmed imported COVID-19 pneumonia in T...  ...    60-70\n",
              "4     new confirmed imported COVID-19 pneumonia in T...  ...    50-60\n",
              "...                                                 ...  ...      ...\n",
              "3387  new COVID-19 patient confirmed in Switzerland:...  ...      70+\n",
              "3392  new COVID-19 patient confirmed in Switzerland:...  ...    20-30\n",
              "3393  new COVID-19 patient confirmed in Switzerland:...  ...    30-40\n",
              "3394  new COVID-19 patient confirmed in Switzerland:...  ...    40-50\n",
              "3396  new COVID-19 patient confirmed in Switzerland:...  ...    20-30\n",
              "\n",
              "[721 rows x 7 columns]"
            ]
          },
          "metadata": {
            "tags": []
          },
          "execution_count": 10
        }
      ]
    },
    {
      "cell_type": "code",
      "metadata": {
        "id": "Gjok-haK_oYH",
        "colab_type": "code",
        "colab": {}
      },
      "source": [
        ""
      ],
      "execution_count": 0,
      "outputs": []
    },
    {
      "cell_type": "markdown",
      "metadata": {
        "id": "8v3m5na83GpY",
        "colab_type": "text"
      },
      "source": [
        "**Analyse d'âge**\n",
        "\n",
        "\n",
        "Les informations sur l'âge correspondent-elles aux cas confirmés?"
      ]
    },
    {
      "cell_type": "code",
      "metadata": {
        "id": "PNQ9Bc3k3Uv7",
        "colab_type": "code",
        "outputId": "ed0e4960-3551-4599-8cbd-fdc076dd1f7b",
        "colab": {
          "base_uri": "https://localhost:8080/",
          "height": 328
        }
      },
      "source": [
        "agestat = odat.groupby('agegroup').count()[['age']]\n",
        "agestat['ageratio'] = agestat['age']/sum(agestat['age'])*100\n",
        "agestat"
      ],
      "execution_count": 0,
      "outputs": [
        {
          "output_type": "execute_result",
          "data": {
            "text/html": [
              "<div>\n",
              "<style scoped>\n",
              "    .dataframe tbody tr th:only-of-type {\n",
              "        vertical-align: middle;\n",
              "    }\n",
              "\n",
              "    .dataframe tbody tr th {\n",
              "        vertical-align: top;\n",
              "    }\n",
              "\n",
              "    .dataframe thead th {\n",
              "        text-align: right;\n",
              "    }\n",
              "</style>\n",
              "<table border=\"1\" class=\"dataframe\">\n",
              "  <thead>\n",
              "    <tr style=\"text-align: right;\">\n",
              "      <th></th>\n",
              "      <th>age</th>\n",
              "      <th>ageratio</th>\n",
              "    </tr>\n",
              "    <tr>\n",
              "      <th>agegroup</th>\n",
              "      <th></th>\n",
              "      <th></th>\n",
              "    </tr>\n",
              "  </thead>\n",
              "  <tbody>\n",
              "    <tr>\n",
              "      <th>1-10</th>\n",
              "      <td>12</td>\n",
              "      <td>1.664355</td>\n",
              "    </tr>\n",
              "    <tr>\n",
              "      <th>10-20</th>\n",
              "      <td>26</td>\n",
              "      <td>3.606103</td>\n",
              "    </tr>\n",
              "    <tr>\n",
              "      <th>20-30</th>\n",
              "      <td>92</td>\n",
              "      <td>12.760055</td>\n",
              "    </tr>\n",
              "    <tr>\n",
              "      <th>30-40</th>\n",
              "      <td>127</td>\n",
              "      <td>17.614424</td>\n",
              "    </tr>\n",
              "    <tr>\n",
              "      <th>40-50</th>\n",
              "      <td>114</td>\n",
              "      <td>15.811373</td>\n",
              "    </tr>\n",
              "    <tr>\n",
              "      <th>50-60</th>\n",
              "      <td>148</td>\n",
              "      <td>20.527046</td>\n",
              "    </tr>\n",
              "    <tr>\n",
              "      <th>60-70</th>\n",
              "      <td>107</td>\n",
              "      <td>14.840499</td>\n",
              "    </tr>\n",
              "    <tr>\n",
              "      <th>70+</th>\n",
              "      <td>95</td>\n",
              "      <td>13.176144</td>\n",
              "    </tr>\n",
              "  </tbody>\n",
              "</table>\n",
              "</div>"
            ],
            "text/plain": [
              "          age   ageratio\n",
              "agegroup                \n",
              "1-10       12   1.664355\n",
              "10-20      26   3.606103\n",
              "20-30      92  12.760055\n",
              "30-40     127  17.614424\n",
              "40-50     114  15.811373\n",
              "50-60     148  20.527046\n",
              "60-70     107  14.840499\n",
              "70+        95  13.176144"
            ]
          },
          "metadata": {
            "tags": []
          },
          "execution_count": 11
        }
      ]
    },
    {
      "cell_type": "code",
      "metadata": {
        "id": "_XlreEfb3feH",
        "colab_type": "code",
        "colab": {}
      },
      "source": [
        "!pip install -q matplotlib-venn\n"
      ],
      "execution_count": 0,
      "outputs": []
    },
    {
      "cell_type": "code",
      "metadata": {
        "id": "UvQVuwtK4ZXO",
        "colab_type": "code",
        "outputId": "fb10f0d3-6b3e-4151-e750-1e633b49f938",
        "colab": {
          "base_uri": "https://localhost:8080/",
          "height": 51
        }
      },
      "source": [
        "!python3 --version\n",
        "!py --version\n"
      ],
      "execution_count": 0,
      "outputs": [
        {
          "output_type": "stream",
          "text": [
            "Python 3.6.9\n",
            "/bin/bash: py: command not found\n"
          ],
          "name": "stdout"
        }
      ]
    },
    {
      "cell_type": "code",
      "metadata": {
        "id": "mKcAGwF4641j",
        "colab_type": "code",
        "outputId": "990f767e-0a2b-4a38-8329-a0f353d030b9",
        "colab": {
          "base_uri": "https://localhost:8080/",
          "height": 409
        }
      },
      "source": [
        "plotbar(agestat['ageratio'].values,agestat.index.values,'age confirmed case (%)')"
      ],
      "execution_count": 0,
      "outputs": [
        {
          "output_type": "display_data",
          "data": {
            "image/png": "[encoded data removed]",
            "text/plain": [
              "<Figure size 1152x432 with 1 Axes>"
            ]
          },
          "metadata": {
            "tags": []
          }
        }
      ]
    },
    {
      "cell_type": "markdown",
      "metadata": {
        "id": "I-9I03zo-KPu",
        "colab_type": "text"
      },
      "source": [
        "\n",
        "Les répartitions d'âge confirmées sont-elles similaires d'un pays à l'autre?\n"
      ]
    },
    {
      "cell_type": "code",
      "metadata": {
        "id": "eId-fdAY-Lv9",
        "colab_type": "code",
        "colab": {}
      },
      "source": [
        ""
      ],
      "execution_count": 0,
      "outputs": []
    },
    {
      "cell_type": "code",
      "metadata": {
        "id": "PTecajY47cB4",
        "colab_type": "code",
        "colab": {}
      },
      "source": [
        "def getattributedata_bycountry(dat,attr):\n",
        "  dat = dat[dat['country']!='']\n",
        "  dat['age'] = dat[attr].astype('float')\n",
        "  medianage = dat.groupby(by='country').mean()\n",
        "  cList = list(medianage.sort_values(by='age').index)\n",
        "  cFrame = []\n",
        "  nclist = []\n",
        "  cdat = dat['age'].astype('float').dropna().values\n",
        "  cFrame.append(cdat)\n",
        "  nclist.append('all')\n",
        "  for c in cList:\n",
        "    cdat = dat[dat['country']==c]['age'].astype('float').dropna().values\n",
        "    if len(cdat)>5:\n",
        "      cFrame.append(cdat)\n",
        "      nclist.append(c)\n",
        "  return cFrame,nclist"
      ],
      "execution_count": 0,
      "outputs": []
    },
    {
      "cell_type": "code",
      "metadata": {
        "id": "ZQ8fdwvl-SA_",
        "colab_type": "code",
        "colab": {}
      },
      "source": [
        "cFrame,nclist = getattributedata_bycountry(odat,'age')\n",
        "mList = []\n",
        "for c in cFrame:\n",
        "  mList.append([c.mean(),c.std()])\n",
        "agedat = pd.DataFrame(data=mList,columns=['mean','std'])\n",
        "agedat.index = nclist\n",
        "agedat = agedat.sort_values(by='mean')"
      ],
      "execution_count": 0,
      "outputs": []
    },
    {
      "cell_type": "code",
      "metadata": {
        "id": "kLp2Fq_P-v0g",
        "colab_type": "code",
        "outputId": "61e1f083-dfc5-4e47-ebd5-b7f109d5f6b2",
        "colab": {
          "base_uri": "https://localhost:8080/",
          "height": 440
        }
      },
      "source": [
        "plotbar(agedat['mean'],agedat.index.values,'Mean confirmed age by country')"
      ],
      "execution_count": 0,
      "outputs": [
        {
          "output_type": "display_data",
          "data": {
            "image/png": "[encoded data removed]",
            "text/plain": [
              "<Figure size 1152x432 with 1 Axes>"
            ]
          },
          "metadata": {
            "tags": []
          }
        }
      ]
    },
    {
      "cell_type": "markdown",
      "metadata": {
        "id": "7YZpc2cY_BY6",
        "colab_type": "text"
      },
      "source": [
        "les distributions ressemblent-elles à différents pays?\n"
      ]
    },
    {
      "cell_type": "code",
      "metadata": {
        "id": "Z39w7VkT_DUD",
        "colab_type": "code",
        "outputId": "5def2fd2-cf41-4a3f-81c9-9d62a32104d2",
        "colab": {
          "base_uri": "https://localhost:8080/",
          "height": 315
        }
      },
      "source": [
        "plotcandle(cFrame,nclist)"
      ],
      "execution_count": 0,
      "outputs": [
        {
          "output_type": "display_data",
          "data": {
            "image/png": "[encoded data removed]",
            "text/plain": [
              "<Figure size 432x288 with 1 Axes>"
            ]
          },
          "metadata": {
            "tags": []
          }
        }
      ]
    },
    {
      "cell_type": "code",
      "metadata": {
        "id": "20baM_Ls_RO6",
        "colab_type": "code",
        "colab": {}
      },
      "source": [
        "Les informations sur l'âge correspondent-elles aux cas de décès?\n"
      ],
      "execution_count": 0,
      "outputs": []
    },
    {
      "cell_type": "code",
      "metadata": {
        "id": "VlM0g0kX_DR_",
        "colab_type": "code",
        "colab": {}
      },
      "source": [
        ""
      ],
      "execution_count": 0,
      "outputs": []
    },
    {
      "cell_type": "code",
      "metadata": {
        "id": "VeMdxzfT_TXp",
        "colab_type": "code",
        "outputId": "0ad1ce69-7942-4921-e9ab-9c445b1be47c",
        "colab": {
          "base_uri": "https://localhost:8080/",
          "height": 297
        }
      },
      "source": [
        "drDic = {}\n",
        "for k in ageDic.keys():\n",
        "  adat = odat[odat['agegroup']==k]\n",
        "  drDic[k] = (sum(adat['death']),len(adat['death']),sum(adat['death'])/len(adat['death'])*100)\n",
        "#drDic.values()\n",
        "drFrame = pd.DataFrame(data=drDic.values(),columns=['death-count','confirmed-count','death-ratio'])\n",
        "drFrame.index = drDic.keys()\n",
        "drFrame"
      ],
      "execution_count": 0,
      "outputs": [
        {
          "output_type": "execute_result",
          "data": {
            "text/html": [
              "<div>\n",
              "<style scoped>\n",
              "    .dataframe tbody tr th:only-of-type {\n",
              "        vertical-align: middle;\n",
              "    }\n",
              "\n",
              "    .dataframe tbody tr th {\n",
              "        vertical-align: top;\n",
              "    }\n",
              "\n",
              "    .dataframe thead th {\n",
              "        text-align: right;\n",
              "    }\n",
              "</style>\n",
              "<table border=\"1\" class=\"dataframe\">\n",
              "  <thead>\n",
              "    <tr style=\"text-align: right;\">\n",
              "      <th></th>\n",
              "      <th>death-count</th>\n",
              "      <th>confirmed-count</th>\n",
              "      <th>death-ratio</th>\n",
              "    </tr>\n",
              "  </thead>\n",
              "  <tbody>\n",
              "    <tr>\n",
              "      <th>1-10</th>\n",
              "      <td>0</td>\n",
              "      <td>12</td>\n",
              "      <td>0.000000</td>\n",
              "    </tr>\n",
              "    <tr>\n",
              "      <th>10-20</th>\n",
              "      <td>0</td>\n",
              "      <td>26</td>\n",
              "      <td>0.000000</td>\n",
              "    </tr>\n",
              "    <tr>\n",
              "      <th>20-30</th>\n",
              "      <td>0</td>\n",
              "      <td>92</td>\n",
              "      <td>0.000000</td>\n",
              "    </tr>\n",
              "    <tr>\n",
              "      <th>30-40</th>\n",
              "      <td>2</td>\n",
              "      <td>127</td>\n",
              "      <td>1.574803</td>\n",
              "    </tr>\n",
              "    <tr>\n",
              "      <th>40-50</th>\n",
              "      <td>1</td>\n",
              "      <td>114</td>\n",
              "      <td>0.877193</td>\n",
              "    </tr>\n",
              "    <tr>\n",
              "      <th>50-60</th>\n",
              "      <td>4</td>\n",
              "      <td>148</td>\n",
              "      <td>2.702703</td>\n",
              "    </tr>\n",
              "    <tr>\n",
              "      <th>60-70</th>\n",
              "      <td>12</td>\n",
              "      <td>107</td>\n",
              "      <td>11.214953</td>\n",
              "    </tr>\n",
              "    <tr>\n",
              "      <th>70+</th>\n",
              "      <td>22</td>\n",
              "      <td>95</td>\n",
              "      <td>23.157895</td>\n",
              "    </tr>\n",
              "  </tbody>\n",
              "</table>\n",
              "</div>"
            ],
            "text/plain": [
              "       death-count  confirmed-count  death-ratio\n",
              "1-10             0               12     0.000000\n",
              "10-20            0               26     0.000000\n",
              "20-30            0               92     0.000000\n",
              "30-40            2              127     1.574803\n",
              "40-50            1              114     0.877193\n",
              "50-60            4              148     2.702703\n",
              "60-70           12              107    11.214953\n",
              "70+             22               95    23.157895"
            ]
          },
          "metadata": {
            "tags": []
          },
          "execution_count": 77
        }
      ]
    },
    {
      "cell_type": "code",
      "metadata": {
        "id": "-k9bdYDA_qlA",
        "colab_type": "code",
        "colab": {}
      },
      "source": [
        ""
      ],
      "execution_count": 0,
      "outputs": []
    },
    {
      "cell_type": "code",
      "metadata": {
        "id": "MJZjvZ8I_VI3",
        "colab_type": "code",
        "outputId": "d9363e94-dc7b-45a2-df99-faca7a96d73e",
        "colab": {
          "base_uri": "https://localhost:8080/",
          "height": 409
        }
      },
      "source": [
        "plotbar(drFrame['death-ratio'],list(drFrame.index),'Death/Confirmed ratio (%)')"
      ],
      "execution_count": 0,
      "outputs": [
        {
          "output_type": "display_data",
          "data": {
            "image/png": "[encoded data removed]",
            "text/plain": [
              "<Figure size 1152x432 with 1 Axes>"
            ]
          },
          "metadata": {
            "tags": []
          }
        }
      ]
    },
    {
      "cell_type": "markdown",
      "metadata": {
        "id": "QBTOX27H_ymp",
        "colab_type": "text"
      },
      "source": [
        "Analyse de genre\n"
      ]
    },
    {
      "cell_type": "code",
      "metadata": {
        "id": "ZT5riZGY_zvX",
        "colab_type": "code",
        "colab": {}
      },
      "source": [
        "Quel est le rapport entre les cas confirmés d'hommes et de femmes dans différents pays?\n"
      ],
      "execution_count": 0,
      "outputs": []
    },
    {
      "cell_type": "code",
      "metadata": {
        "id": "sidhVfq1_58N",
        "colab_type": "code",
        "outputId": "fd9b25ed-ee26-4717-8ab1-b7b59140fc48",
        "colab": {
          "base_uri": "https://localhost:8080/",
          "height": 440
        }
      },
      "source": [
        "odat['male'] = (odat['gender']=='male').astype('int')\n",
        "mstat = odat[['country','male']].groupby('country').sum()/odat[['country','male']].groupby('country').count()\n",
        "mstat = mstat.sort_values(by='male')\n",
        "clist = np.array(mstat.index)\n",
        "mstatvalues = mstat.values[:,0]\n",
        "plotbar(mstatvalues,clist,'male ratio')"
      ],
      "execution_count": 0,
      "outputs": [
        {
          "output_type": "display_data",
          "data": {
            "image/png": "[encoded data removed]",
            "text/plain": [
              "<Figure size 1152x432 with 1 Axes>"
            ]
          },
          "metadata": {
            "tags": []
          }
        }
      ]
    },
    {
      "cell_type": "code",
      "metadata": {
        "id": "NXRcDJBwGbGD",
        "colab_type": "code",
        "outputId": "bcafd9f2-4b4f-4828-b8de-aa88ad9c5ad9",
        "colab": {
          "base_uri": "https://localhost:8080/",
          "height": 440
        }
      },
      "source": [
        "odat['female'] = (odat['gender']=='female').astype('int')\n",
        "mstat = odat[['country','female']].groupby('country').sum()/odat[['country','female']].groupby('country').count()\n",
        "mstat = mstat.sort_values(by='female')\n",
        "clist = np.array(mstat.index)\n",
        "mstatvalues = mstat.values[:,0]\n",
        "plotbar(mstatvalues,clist,'female ratio')"
      ],
      "execution_count": 0,
      "outputs": [
        {
          "output_type": "display_data",
          "data": {
            "image/png": "[encoded data removed]",
            "text/plain": [
              "<Figure size 1152x432 with 1 Axes>"
            ]
          },
          "metadata": {
            "tags": []
          }
        }
      ]
    },
    {
      "cell_type": "markdown",
      "metadata": {
        "id": "QmQNG_E__9Y8",
        "colab_type": "text"
      },
      "source": [
        "Quel est le taux de mortalité entre hommes et femmes?"
      ]
    },
    {
      "cell_type": "code",
      "metadata": {
        "id": "IO69ZnE7AEEM",
        "colab_type": "code",
        "outputId": "781de371-762b-4091-e746-886c97927974",
        "colab": {
          "base_uri": "https://localhost:8080/",
          "height": 85
        }
      },
      "source": [
        "gdat = odat[['death','gender']]\n",
        "gc = gdat.groupby(by='gender').count()\n",
        "gd = gdat.groupby(by='gender').sum()\n",
        "gender_dratio = gd['death']/gc['death']\n",
        "gender_dratio"
      ],
      "execution_count": 0,
      "outputs": [
        {
          "output_type": "execute_result",
          "data": {
            "text/plain": [
              "gender\n",
              "female    0.039088\n",
              "male      0.070048\n",
              "Name: death, dtype: float64"
            ]
          },
          "metadata": {
            "tags": []
          },
          "execution_count": 80
        }
      ]
    },
    {
      "cell_type": "code",
      "metadata": {
        "id": "_l3IWVEyAJIF",
        "colab_type": "code",
        "outputId": "62c1a652-180d-444a-f38d-d02afb5c7b38",
        "colab": {
          "base_uri": "https://localhost:8080/",
          "height": 415
        }
      },
      "source": [
        "plotbar(gender_dratio,gender_dratio.index,'Death ratio per Gender (%)')"
      ],
      "execution_count": 0,
      "outputs": [
        {
          "output_type": "display_data",
          "data": {
            "image/png": "[encoded data removed]",
            "text/plain": [
              "<Figure size 1152x432 with 1 Axes>"
            ]
          },
          "metadata": {
            "tags": []
          }
        }
      ]
    },
    {
      "cell_type": "markdown",
      "metadata": {
        "id": "wiPnRu-eAPkN",
        "colab_type": "text"
      },
      "source": [
        "**Analyse pays**"
      ]
    },
    {
      "cell_type": "code",
      "metadata": {
        "id": "k5sceLNQAYNP",
        "colab_type": "code",
        "colab": {}
      },
      "source": [
        ""
      ],
      "execution_count": 0,
      "outputs": []
    },
    {
      "cell_type": "markdown",
      "metadata": {
        "id": "5vyppKpLAa2x",
        "colab_type": "text"
      },
      "source": [
        "\n",
        "Existe-t-il des différences de ratio décès / confirmés par pays?"
      ]
    },
    {
      "cell_type": "code",
      "metadata": {
        "id": "XR2Gppx8AgFJ",
        "colab_type": "code",
        "colab": {}
      },
      "source": [
        "import requests\n",
        "url= 'https://github.com/CSSEGISandData/COVID-19/blob/master/csse_covid_19_data/csse_covid_19_daily_reports/03-16-2020.csv'\n",
        "s=requests.get(url)\n",
        "s = s.content\n",
        "dat = pd.read_html(s)[0]\n",
        "dat = dat[['Country/Region','Confirmed','Deaths','Recovered']]\n",
        "dat = dat.groupby(by = 'Country/Region').sum()\n",
        "dat['DeathRatio'] = dat['Deaths']/dat['Confirmed']*100\n",
        "dat = dat.sort_values(by='DeathRatio',ascending=False).iloc[0:50]"
      ],
      "execution_count": 0,
      "outputs": []
    },
    {
      "cell_type": "code",
      "metadata": {
        "id": "26vuJjz5Atgc",
        "colab_type": "code",
        "outputId": "b6d9ddf9-c9aa-4d0e-965e-8fc38260fe3f",
        "colab": {
          "base_uri": "https://localhost:8080/",
          "height": 460
        }
      },
      "source": [
        "plotbar(dat['DeathRatio'].values[3:50],dat.index.values[3:50],'Death/Confirmed ratio')"
      ],
      "execution_count": 0,
      "outputs": [
        {
          "output_type": "display_data",
          "data": {
            "image/png": "[encoded data removed]",
            "text/plain": [
              "<Figure size 1152x432 with 1 Axes>"
            ]
          },
          "metadata": {
            "tags": []
          }
        }
      ]
    },
    {
      "cell_type": "markdown",
      "metadata": {
        "id": "B3HkYHCbBCtR",
        "colab_type": "text"
      },
      "source": [
        "**Symptom?**"
      ]
    },
    {
      "cell_type": "code",
      "metadata": {
        "id": "uuJGKAIDBF41",
        "colab_type": "code",
        "outputId": "f25632aa-fdf3-464e-f491-6293c34e999a",
        "colab": {
          "base_uri": "https://localhost:8080/",
          "height": 482
        }
      },
      "source": [
        "symptomList = odat[odat['symptom'].str.len()>2]\n",
        "symptomList = symptomList['symptom'].values\n",
        "symDic = {}\n",
        "for s in symptomList:\n",
        "  sList = s.split(',')\n",
        "  for st in sList:\n",
        "    st = st.strip()\n",
        "    try:\n",
        "      symDic[st] = symDic[st] + 1\n",
        "    except:\n",
        "      symDic[st] = 1\n",
        "symFrame = pd.DataFrame()\n",
        "symFrame['symptom'] = symDic.keys()\n",
        "symFrame['count'] = symDic.values()\n",
        "symFrame = symFrame.sort_values(by='count',ascending=False)\n",
        "symFrame = symFrame.iloc[0:20]\n",
        "symFrame['ncount'] = (symFrame['count']/len(symptomList))*100\n",
        "plotbar(symFrame['ncount'],symFrame['symptom'],'Percentage of symptom confirmed cases (%)')"
      ],
      "execution_count": 0,
      "outputs": [
        {
          "output_type": "display_data",
          "data": {
            "image/png": "[encoded data removed]",
            "text/plain": [
              "<Figure size 1152x432 with 1 Axes>"
            ]
          },
          "metadata": {
            "tags": []
          }
        }
      ]
    }
  ]
}